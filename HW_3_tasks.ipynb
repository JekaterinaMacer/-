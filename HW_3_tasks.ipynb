{
 "cells": [
  {
   "cell_type": "markdown",
   "metadata": {
    "id": "AnG9DXhe49cH"
   },
   "source": [
    "## Теоретическая часть"
   ]
  },
  {
   "cell_type": "markdown",
   "metadata": {
    "id": "RxDIQTAh49cO"
   },
   "source": [
    "1. Вспомним прошлый вебинар, мы рассматривали User-User рекомендации и Item-Item рекомендации. Чем они отличаются и чем они похожи? Если есть функция item_item_rec(interaction_matrix). Можно ли использовать эту функцию для user_user_rec?  \n",
    "В чем принципиальные отличия item-item рекомендаций от ALS?\n"
   ]
  },
  {
   "cell_type": "markdown",
   "metadata": {
    "id": "XnuQ5DDD49cP"
   },
   "source": [
    "2. Приведите 3 примера весов (те, которых не было на вебинаре: сумма покупок, количество покупок - неинтересно) user-item матрицы для задачи рекомендаций товаров \n"
   ]
  },
  {
   "cell_type": "markdown",
   "metadata": {
    "id": "UmKifKo649cQ"
   },
   "source": [
    "3. Какие ограничения есть у ALS? (Тип информации, линейность/нелинейность факторов и т д)\n"
   ]
  },
  {
   "cell_type": "markdown",
   "metadata": {
    "id": "ZFhlzsTb49cR"
   },
   "source": [
    "## Практическая часть\n"
   ]
  },
  {
   "cell_type": "code",
   "execution_count": null,
   "metadata": {
    "colab": {
     "base_uri": "https://localhost:8080/"
    },
    "executionInfo": {
     "elapsed": 178234,
     "status": "ok",
     "timestamp": 1634549148220,
     "user": {
      "displayName": "Николай -",
      "photoUrl": "https://lh3.googleusercontent.com/a-/AOh14GiCS90olAsBznR3WLZOaJ5ukcv2LPYBRWvHEQUZ-A=s64",
      "userId": "17372739142422056321"
     },
     "user_tz": -180
    },
    "id": "ju-hv9oJtakN",
    "outputId": "d6e7bec4-09fb-441f-9f60-5842db15f3d0"
   },
   "outputs": [
    {
     "name": "stdout",
     "output_type": "stream",
     "text": [
      "Collecting implicit\n",
      "  Downloading implicit-0.4.8.tar.gz (1.1 MB)\n",
      "\u001b[?25l\r",
      "\u001b[K     |▎                               | 10 kB 14.1 MB/s eta 0:00:01\r",
      "\u001b[K     |▋                               | 20 kB 9.0 MB/s eta 0:00:01\r",
      "\u001b[K     |▉                               | 30 kB 10.2 MB/s eta 0:00:01\r",
      "\u001b[K     |█▏                              | 40 kB 8.7 MB/s eta 0:00:01\r",
      "\u001b[K     |█▍                              | 51 kB 5.6 MB/s eta 0:00:01\r",
      "\u001b[K     |█▊                              | 61 kB 6.0 MB/s eta 0:00:01\r",
      "\u001b[K     |██                              | 71 kB 5.9 MB/s eta 0:00:01\r",
      "\u001b[K     |██▎                             | 81 kB 6.4 MB/s eta 0:00:01\r",
      "\u001b[K     |██▋                             | 92 kB 5.0 MB/s eta 0:00:01\r",
      "\u001b[K     |██▉                             | 102 kB 5.4 MB/s eta 0:00:01\r",
      "\u001b[K     |███▏                            | 112 kB 5.4 MB/s eta 0:00:01\r",
      "\u001b[K     |███▍                            | 122 kB 5.4 MB/s eta 0:00:01\r",
      "\u001b[K     |███▊                            | 133 kB 5.4 MB/s eta 0:00:01\r",
      "\u001b[K     |████                            | 143 kB 5.4 MB/s eta 0:00:01\r",
      "\u001b[K     |████▎                           | 153 kB 5.4 MB/s eta 0:00:01\r",
      "\u001b[K     |████▋                           | 163 kB 5.4 MB/s eta 0:00:01\r",
      "\u001b[K     |████▉                           | 174 kB 5.4 MB/s eta 0:00:01\r",
      "\u001b[K     |█████▏                          | 184 kB 5.4 MB/s eta 0:00:01\r",
      "\u001b[K     |█████▍                          | 194 kB 5.4 MB/s eta 0:00:01\r",
      "\u001b[K     |█████▊                          | 204 kB 5.4 MB/s eta 0:00:01\r",
      "\u001b[K     |██████                          | 215 kB 5.4 MB/s eta 0:00:01\r",
      "\u001b[K     |██████▎                         | 225 kB 5.4 MB/s eta 0:00:01\r",
      "\u001b[K     |██████▋                         | 235 kB 5.4 MB/s eta 0:00:01\r",
      "\u001b[K     |██████▉                         | 245 kB 5.4 MB/s eta 0:00:01\r",
      "\u001b[K     |███████▏                        | 256 kB 5.4 MB/s eta 0:00:01\r",
      "\u001b[K     |███████▌                        | 266 kB 5.4 MB/s eta 0:00:01\r",
      "\u001b[K     |███████▊                        | 276 kB 5.4 MB/s eta 0:00:01\r",
      "\u001b[K     |████████                        | 286 kB 5.4 MB/s eta 0:00:01\r",
      "\u001b[K     |████████▎                       | 296 kB 5.4 MB/s eta 0:00:01\r",
      "\u001b[K     |████████▋                       | 307 kB 5.4 MB/s eta 0:00:01\r",
      "\u001b[K     |████████▉                       | 317 kB 5.4 MB/s eta 0:00:01\r",
      "\u001b[K     |█████████▏                      | 327 kB 5.4 MB/s eta 0:00:01\r",
      "\u001b[K     |█████████▌                      | 337 kB 5.4 MB/s eta 0:00:01\r",
      "\u001b[K     |█████████▊                      | 348 kB 5.4 MB/s eta 0:00:01\r",
      "\u001b[K     |██████████                      | 358 kB 5.4 MB/s eta 0:00:01\r",
      "\u001b[K     |██████████▎                     | 368 kB 5.4 MB/s eta 0:00:01\r",
      "\u001b[K     |██████████▋                     | 378 kB 5.4 MB/s eta 0:00:01\r",
      "\u001b[K     |██████████▉                     | 389 kB 5.4 MB/s eta 0:00:01\r",
      "\u001b[K     |███████████▏                    | 399 kB 5.4 MB/s eta 0:00:01\r",
      "\u001b[K     |███████████▌                    | 409 kB 5.4 MB/s eta 0:00:01\r",
      "\u001b[K     |███████████▊                    | 419 kB 5.4 MB/s eta 0:00:01\r",
      "\u001b[K     |████████████                    | 430 kB 5.4 MB/s eta 0:00:01\r",
      "\u001b[K     |████████████▎                   | 440 kB 5.4 MB/s eta 0:00:01\r",
      "\u001b[K     |████████████▋                   | 450 kB 5.4 MB/s eta 0:00:01\r",
      "\u001b[K     |█████████████                   | 460 kB 5.4 MB/s eta 0:00:01\r",
      "\u001b[K     |█████████████▏                  | 471 kB 5.4 MB/s eta 0:00:01\r",
      "\u001b[K     |█████████████▌                  | 481 kB 5.4 MB/s eta 0:00:01\r",
      "\u001b[K     |█████████████▊                  | 491 kB 5.4 MB/s eta 0:00:01\r",
      "\u001b[K     |██████████████                  | 501 kB 5.4 MB/s eta 0:00:01\r",
      "\u001b[K     |██████████████▎                 | 512 kB 5.4 MB/s eta 0:00:01\r",
      "\u001b[K     |██████████████▋                 | 522 kB 5.4 MB/s eta 0:00:01\r",
      "\u001b[K     |███████████████                 | 532 kB 5.4 MB/s eta 0:00:01\r",
      "\u001b[K     |███████████████▏                | 542 kB 5.4 MB/s eta 0:00:01\r",
      "\u001b[K     |███████████████▌                | 552 kB 5.4 MB/s eta 0:00:01\r",
      "\u001b[K     |███████████████▊                | 563 kB 5.4 MB/s eta 0:00:01\r",
      "\u001b[K     |████████████████                | 573 kB 5.4 MB/s eta 0:00:01\r",
      "\u001b[K     |████████████████▎               | 583 kB 5.4 MB/s eta 0:00:01\r",
      "\u001b[K     |████████████████▋               | 593 kB 5.4 MB/s eta 0:00:01\r",
      "\u001b[K     |█████████████████               | 604 kB 5.4 MB/s eta 0:00:01\r",
      "\u001b[K     |█████████████████▏              | 614 kB 5.4 MB/s eta 0:00:01\r",
      "\u001b[K     |█████████████████▌              | 624 kB 5.4 MB/s eta 0:00:01\r",
      "\u001b[K     |█████████████████▊              | 634 kB 5.4 MB/s eta 0:00:01\r",
      "\u001b[K     |██████████████████              | 645 kB 5.4 MB/s eta 0:00:01\r",
      "\u001b[K     |██████████████████▍             | 655 kB 5.4 MB/s eta 0:00:01\r",
      "\u001b[K     |██████████████████▋             | 665 kB 5.4 MB/s eta 0:00:01\r",
      "\u001b[K     |███████████████████             | 675 kB 5.4 MB/s eta 0:00:01\r",
      "\u001b[K     |███████████████████▏            | 686 kB 5.4 MB/s eta 0:00:01\r",
      "\u001b[K     |███████████████████▌            | 696 kB 5.4 MB/s eta 0:00:01\r",
      "\u001b[K     |███████████████████▊            | 706 kB 5.4 MB/s eta 0:00:01\r",
      "\u001b[K     |████████████████████            | 716 kB 5.4 MB/s eta 0:00:01\r",
      "\u001b[K     |████████████████████▍           | 727 kB 5.4 MB/s eta 0:00:01\r",
      "\u001b[K     |████████████████████▋           | 737 kB 5.4 MB/s eta 0:00:01\r",
      "\u001b[K     |█████████████████████           | 747 kB 5.4 MB/s eta 0:00:01\r",
      "\u001b[K     |█████████████████████▏          | 757 kB 5.4 MB/s eta 0:00:01\r",
      "\u001b[K     |█████████████████████▌          | 768 kB 5.4 MB/s eta 0:00:01\r",
      "\u001b[K     |█████████████████████▊          | 778 kB 5.4 MB/s eta 0:00:01\r",
      "\u001b[K     |██████████████████████          | 788 kB 5.4 MB/s eta 0:00:01\r",
      "\u001b[K     |██████████████████████▍         | 798 kB 5.4 MB/s eta 0:00:01\r",
      "\u001b[K     |██████████████████████▋         | 808 kB 5.4 MB/s eta 0:00:01\r",
      "\u001b[K     |███████████████████████         | 819 kB 5.4 MB/s eta 0:00:01\r",
      "\u001b[K     |███████████████████████▏        | 829 kB 5.4 MB/s eta 0:00:01\r",
      "\u001b[K     |███████████████████████▌        | 839 kB 5.4 MB/s eta 0:00:01\r",
      "\u001b[K     |███████████████████████▉        | 849 kB 5.4 MB/s eta 0:00:01\r",
      "\u001b[K     |████████████████████████        | 860 kB 5.4 MB/s eta 0:00:01\r",
      "\u001b[K     |████████████████████████▍       | 870 kB 5.4 MB/s eta 0:00:01\r",
      "\u001b[K     |████████████████████████▋       | 880 kB 5.4 MB/s eta 0:00:01\r",
      "\u001b[K     |█████████████████████████       | 890 kB 5.4 MB/s eta 0:00:01\r",
      "\u001b[K     |█████████████████████████▏      | 901 kB 5.4 MB/s eta 0:00:01\r",
      "\u001b[K     |█████████████████████████▌      | 911 kB 5.4 MB/s eta 0:00:01\r",
      "\u001b[K     |█████████████████████████▉      | 921 kB 5.4 MB/s eta 0:00:01\r",
      "\u001b[K     |██████████████████████████      | 931 kB 5.4 MB/s eta 0:00:01\r",
      "\u001b[K     |██████████████████████████▍     | 942 kB 5.4 MB/s eta 0:00:01\r",
      "\u001b[K     |██████████████████████████▋     | 952 kB 5.4 MB/s eta 0:00:01\r",
      "\u001b[K     |███████████████████████████     | 962 kB 5.4 MB/s eta 0:00:01\r",
      "\u001b[K     |███████████████████████████▏    | 972 kB 5.4 MB/s eta 0:00:01\r",
      "\u001b[K     |███████████████████████████▌    | 983 kB 5.4 MB/s eta 0:00:01\r",
      "\u001b[K     |███████████████████████████▉    | 993 kB 5.4 MB/s eta 0:00:01\r",
      "\u001b[K     |████████████████████████████    | 1.0 MB 5.4 MB/s eta 0:00:01\r",
      "\u001b[K     |████████████████████████████▍   | 1.0 MB 5.4 MB/s eta 0:00:01\r",
      "\u001b[K     |████████████████████████████▋   | 1.0 MB 5.4 MB/s eta 0:00:01\r",
      "\u001b[K     |█████████████████████████████   | 1.0 MB 5.4 MB/s eta 0:00:01\r",
      "\u001b[K     |█████████████████████████████▎  | 1.0 MB 5.4 MB/s eta 0:00:01\r",
      "\u001b[K     |█████████████████████████████▌  | 1.1 MB 5.4 MB/s eta 0:00:01\r",
      "\u001b[K     |█████████████████████████████▉  | 1.1 MB 5.4 MB/s eta 0:00:01\r",
      "\u001b[K     |██████████████████████████████  | 1.1 MB 5.4 MB/s eta 0:00:01\r",
      "\u001b[K     |██████████████████████████████▍ | 1.1 MB 5.4 MB/s eta 0:00:01\r",
      "\u001b[K     |██████████████████████████████▋ | 1.1 MB 5.4 MB/s eta 0:00:01\r",
      "\u001b[K     |███████████████████████████████ | 1.1 MB 5.4 MB/s eta 0:00:01\r",
      "\u001b[K     |███████████████████████████████▎| 1.1 MB 5.4 MB/s eta 0:00:01\r",
      "\u001b[K     |███████████████████████████████▌| 1.1 MB 5.4 MB/s eta 0:00:01\r",
      "\u001b[K     |███████████████████████████████▉| 1.1 MB 5.4 MB/s eta 0:00:01\r",
      "\u001b[K     |████████████████████████████████| 1.1 MB 5.4 MB/s \n",
      "\u001b[?25h  Installing build dependencies ... \u001b[?25l\u001b[?25hdone\n",
      "  Getting requirements to build wheel ... \u001b[?25l\u001b[?25hdone\n",
      "  Installing backend dependencies ... \u001b[?25l\u001b[?25hdone\n",
      "    Preparing wheel metadata ... \u001b[?25l\u001b[?25hdone\n",
      "Requirement already satisfied: tqdm>=4.27 in /usr/local/lib/python3.7/dist-packages (from implicit) (4.62.3)\n",
      "Requirement already satisfied: numpy in /usr/local/lib/python3.7/dist-packages (from implicit) (1.19.5)\n",
      "Requirement already satisfied: scipy>=0.16 in /usr/local/lib/python3.7/dist-packages (from implicit) (1.4.1)\n",
      "Building wheels for collected packages: implicit\n",
      "  Building wheel for implicit (PEP 517) ... \u001b[?25l\u001b[?25hdone\n",
      "  Created wheel for implicit: filename=implicit-0.4.8-cp37-cp37m-linux_x86_64.whl size=4606583 sha256=c6f0b57b15ee77fcc5f96a336fde465fede99d524bf365100f8fa31dd0a079f6\n",
      "  Stored in directory: /root/.cache/pip/wheels/88/e6/34/25e73cccbaf1a961154bb562a5f86123b68fdbf40e306073d6\n",
      "Successfully built implicit\n",
      "Installing collected packages: implicit\n",
      "Successfully installed implicit-0.4.8\n"
     ]
    }
   ],
   "source": [
    "!pip install implicit"
   ]
  },
  {
   "cell_type": "code",
   "execution_count": null,
   "metadata": {
    "id": "qI6TyXCL49cS"
   },
   "outputs": [],
   "source": [
    "import pandas as pd\n",
    "import numpy as np\n",
    "import matplotlib.pyplot as plt\n",
    "%matplotlib inline\n",
    "\n",
    "# Для работы с матрицами\n",
    "from scipy.sparse import csr_matrix\n",
    "\n",
    "# Матричная факторизация\n",
    "from implicit.als import AlternatingLeastSquares\n",
    "from implicit.nearest_neighbours import bm25_weight, tfidf_weight\n",
    "\n",
    "# Функции из 1-ого вебинара\n",
    "import os, sys\n"
   ]
  },
  {
   "cell_type": "code",
   "execution_count": null,
   "metadata": {
    "colab": {
     "base_uri": "https://localhost:8080/"
    },
    "executionInfo": {
     "elapsed": 25571,
     "status": "ok",
     "timestamp": 1634549213462,
     "user": {
      "displayName": "Николай -",
      "photoUrl": "https://lh3.googleusercontent.com/a-/AOh14GiCS90olAsBznR3WLZOaJ5ukcv2LPYBRWvHEQUZ-A=s64",
      "userId": "17372739142422056321"
     },
     "user_tz": -180
    },
    "id": "6h2dERHStg0m",
    "outputId": "03b89c61-2953-4819-d128-cdc34af07880"
   },
   "outputs": [
    {
     "name": "stdout",
     "output_type": "stream",
     "text": [
      "Mounted at /content/drive\n"
     ]
    }
   ],
   "source": [
    "from google.colab import drive\n",
    "drive.mount('/content/drive')\n",
    "root = '/content/drive/My Drive/GB/RecSys/webinar_2/'"
   ]
  },
  {
   "cell_type": "code",
   "execution_count": null,
   "metadata": {
    "colab": {
     "base_uri": "https://localhost:8080/",
     "height": 111
    },
    "executionInfo": {
     "elapsed": 4557,
     "status": "ok",
     "timestamp": 1634549218008,
     "user": {
      "displayName": "Николай -",
      "photoUrl": "https://lh3.googleusercontent.com/a-/AOh14GiCS90olAsBznR3WLZOaJ5ukcv2LPYBRWvHEQUZ-A=s64",
      "userId": "17372739142422056321"
     },
     "user_tz": -180
    },
    "id": "LsYDeTEC49cU",
    "outputId": "d1246437-ea35-456e-b859-cca0b9abc21f"
   },
   "outputs": [
    {
     "data": {
      "text/html": [
       "<div>\n",
       "<style scoped>\n",
       "    .dataframe tbody tr th:only-of-type {\n",
       "        vertical-align: middle;\n",
       "    }\n",
       "\n",
       "    .dataframe tbody tr th {\n",
       "        vertical-align: top;\n",
       "    }\n",
       "\n",
       "    .dataframe thead th {\n",
       "        text-align: right;\n",
       "    }\n",
       "</style>\n",
       "<table border=\"1\" class=\"dataframe\">\n",
       "  <thead>\n",
       "    <tr style=\"text-align: right;\">\n",
       "      <th></th>\n",
       "      <th>user_id</th>\n",
       "      <th>basket_id</th>\n",
       "      <th>day</th>\n",
       "      <th>item_id</th>\n",
       "      <th>quantity</th>\n",
       "      <th>sales_value</th>\n",
       "      <th>store_id</th>\n",
       "      <th>retail_disc</th>\n",
       "      <th>trans_time</th>\n",
       "      <th>week_no</th>\n",
       "      <th>coupon_disc</th>\n",
       "      <th>coupon_match_disc</th>\n",
       "    </tr>\n",
       "  </thead>\n",
       "  <tbody>\n",
       "    <tr>\n",
       "      <th>0</th>\n",
       "      <td>2375</td>\n",
       "      <td>26984851472</td>\n",
       "      <td>1</td>\n",
       "      <td>1004906</td>\n",
       "      <td>1</td>\n",
       "      <td>1.39</td>\n",
       "      <td>364</td>\n",
       "      <td>-0.6</td>\n",
       "      <td>1631</td>\n",
       "      <td>1</td>\n",
       "      <td>0.0</td>\n",
       "      <td>0.0</td>\n",
       "    </tr>\n",
       "    <tr>\n",
       "      <th>1</th>\n",
       "      <td>2375</td>\n",
       "      <td>26984851472</td>\n",
       "      <td>1</td>\n",
       "      <td>1033142</td>\n",
       "      <td>1</td>\n",
       "      <td>0.82</td>\n",
       "      <td>364</td>\n",
       "      <td>0.0</td>\n",
       "      <td>1631</td>\n",
       "      <td>1</td>\n",
       "      <td>0.0</td>\n",
       "      <td>0.0</td>\n",
       "    </tr>\n",
       "  </tbody>\n",
       "</table>\n",
       "</div>"
      ],
      "text/plain": [
       "   user_id    basket_id  day  ...  week_no  coupon_disc  coupon_match_disc\n",
       "0     2375  26984851472    1  ...        1          0.0                0.0\n",
       "1     2375  26984851472    1  ...        1          0.0                0.0\n",
       "\n",
       "[2 rows x 12 columns]"
      ]
     },
     "execution_count": 4,
     "metadata": {},
     "output_type": "execute_result"
    }
   ],
   "source": [
    "data = pd.read_csv(root+'retail_train.csv')\n",
    "\n",
    "data.columns = [col.lower() for col in data.columns]\n",
    "data.rename(columns={'household_key': 'user_id',\n",
    "                    'product_id': 'item_id'},\n",
    "           inplace=True)\n",
    "\n",
    "\n",
    "test_size_weeks = 3\n",
    "\n",
    "data_train = data[data['week_no'] < data['week_no'].max() - test_size_weeks]\n",
    "data_test = data[data['week_no'] >= data['week_no'].max() - test_size_weeks]\n",
    "\n",
    "data_train.head(2)"
   ]
  },
  {
   "cell_type": "code",
   "execution_count": null,
   "metadata": {
    "colab": {
     "base_uri": "https://localhost:8080/"
    },
    "executionInfo": {
     "elapsed": 436,
     "status": "ok",
     "timestamp": 1634549218436,
     "user": {
      "displayName": "Николай -",
      "photoUrl": "https://lh3.googleusercontent.com/a-/AOh14GiCS90olAsBznR3WLZOaJ5ukcv2LPYBRWvHEQUZ-A=s64",
      "userId": "17372739142422056321"
     },
     "user_tz": -180
    },
    "id": "EtukvUpC49cX",
    "outputId": "20ccbc7e-2d61-4c32-b804-9c15d6c1bdc7"
   },
   "outputs": [
    {
     "name": "stderr",
     "output_type": "stream",
     "text": [
      "/usr/local/lib/python3.7/dist-packages/pandas/core/indexing.py:1763: SettingWithCopyWarning: \n",
      "A value is trying to be set on a copy of a slice from a DataFrame.\n",
      "Try using .loc[row_indexer,col_indexer] = value instead\n",
      "\n",
      "See the caveats in the documentation: https://pandas.pydata.org/pandas-docs/stable/user_guide/indexing.html#returning-a-view-versus-a-copy\n",
      "  isetter(loc, value)\n"
     ]
    }
   ],
   "source": [
    "popularity = data_train.groupby('item_id')['quantity'].sum().reset_index()\n",
    "popularity.rename(columns={'quantity': 'n_sold'}, inplace=True)\n",
    "\n",
    "top_5000 = popularity.sort_values('n_sold', ascending=False).head(5000).item_id.tolist()\n",
    "\n",
    "# Заведем фиктивный item_id (если юзер покупал товары из топ-5000, то он \"купил\" такой товар)\n",
    "data_train.loc[~data_train['item_id'].isin(top_5000), 'item_id'] = 999999"
   ]
  },
  {
   "cell_type": "markdown",
   "metadata": {
    "id": "wk05OovH49cY"
   },
   "source": [
    "### Подбор матрицы $c_{ui}$\n",
    "Попробуйте различные варианты матрицы весов (3+ вариантов). Обучите алгоритм для различных $C$. В качестве результата приведите таблицу: матрица весов - результат на train и validation.\n",
    "Сделате качественные выводы.\n"
   ]
  },
  {
   "cell_type": "markdown",
   "metadata": {
    "id": "PHer9wto49cZ"
   },
   "source": [
    "### Оптимизация гипперпараметров\n",
    "Для лучшей матрицы весов из первого задания подберите оптимальные $\\lambda$ и n_factors. Подбор можно делать вручную (цикл в цикле, аналог sklearn.GridSearch, или случайно - sklearn.RandomSearch). Или Вы можете воспользоваться библиотеками для автоматического подбора гипперпараметров (любые на Ваш вкус). В качестве результата постройте графики:\n",
    "1. Значение параметра - время обучения \n",
    "2. Значение параметра - качество train, качество validation  \n",
    "\n",
    "Сделайте качественные выводы"
   ]
  },
  {
   "cell_type": "code",
   "execution_count": null,
   "metadata": {
    "colab": {
     "base_uri": "https://localhost:8080/",
     "height": 180
    },
    "executionInfo": {
     "elapsed": 298,
     "status": "error",
     "timestamp": 1634549219073,
     "user": {
      "displayName": "Николай -",
      "photoUrl": "https://lh3.googleusercontent.com/a-/AOh14GiCS90olAsBznR3WLZOaJ5ukcv2LPYBRWvHEQUZ-A=s64",
      "userId": "17372739142422056321"
     },
     "user_tz": -180
    },
    "id": "tPE1gwHW49ca",
    "outputId": "56427b96-6966-4763-cd0a-92dec024ee33"
   },
   "outputs": [
    {
     "ename": "NameError",
     "evalue": "ignored",
     "output_type": "error",
     "traceback": [
      "\u001b[0;31m---------------------------------------------------------------------------\u001b[0m",
      "\u001b[0;31mNameError\u001b[0m                                 Traceback (most recent call last)",
      "\u001b[0;32m<ipython-input-6-c91eb4a8ad69>\u001b[0m in \u001b[0;36m<module>\u001b[0;34m()\u001b[0m\n\u001b[1;32m      1\u001b[0m \u001b[0;32mfor\u001b[0m \u001b[0mfactor\u001b[0m \u001b[0;32min\u001b[0m \u001b[0;34m[\u001b[0m\u001b[0;36m50\u001b[0m\u001b[0;34m,\u001b[0m \u001b[0;36m100\u001b[0m\u001b[0;34m,\u001b[0m \u001b[0;36m300\u001b[0m\u001b[0;34m]\u001b[0m\u001b[0;34m:\u001b[0m\u001b[0;34m\u001b[0m\u001b[0;34m\u001b[0m\u001b[0m\n\u001b[0;32m----> 2\u001b[0;31m     \u001b[0mmodel\u001b[0m \u001b[0;34m=\u001b[0m \u001b[0mALS\u001b[0m\u001b[0;34m(\u001b[0m\u001b[0mfactor\u001b[0m\u001b[0;34m,\u001b[0m \u001b[0;34m...\u001b[0m\u001b[0;34m)\u001b[0m\u001b[0;34m\u001b[0m\u001b[0;34m\u001b[0m\u001b[0m\n\u001b[0m",
      "\u001b[0;31mNameError\u001b[0m: name 'ALS' is not defined"
     ]
    }
   ],
   "source": [
    "for factor in [50, 100, 300]:\n",
    "    model = ALS(factor, ...)"
   ]
  },
  {
   "cell_type": "markdown",
   "metadata": {
    "id": "sKevvD1349cb"
   },
   "source": [
    "**P.S.** Не пишите отписки в качестве выводов. Мне интресены Ваши рассуждения, трудности, с которыми Вы сталкнулись и что-то, что Вас удивило. Если выводы контринтуитивны - напишите об этом, в этом нет ничего страшного!"
   ]
  },
  {
   "cell_type": "code",
   "execution_count": 1,
   "metadata": {
    "colab": {
     "base_uri": "https://localhost:8080/"
    },
    "executionInfo": {
     "elapsed": 3846,
     "status": "ok",
     "timestamp": 1639505077822,
     "user": {
      "displayName": "Николай -",
      "photoUrl": "https://lh3.googleusercontent.com/a-/AOh14GiCS90olAsBznR3WLZOaJ5ukcv2LPYBRWvHEQUZ-A=s64",
      "userId": "17372739142422056321"
     },
     "user_tz": -180
    },
    "id": "URFgaZAmub4E",
    "outputId": "0527403c-00d7-4e4b-ca96-c65ab08cd1e8"
   },
   "outputs": [
    {
     "name": "stdout",
     "output_type": "stream",
     "text": [
      "Requirement already satisfied: hyperopt in /usr/local/lib/python3.7/dist-packages (0.1.2)\n",
      "Requirement already satisfied: numpy in /usr/local/lib/python3.7/dist-packages (from hyperopt) (1.19.5)\n",
      "Requirement already satisfied: pymongo in /usr/local/lib/python3.7/dist-packages (from hyperopt) (3.12.1)\n",
      "Requirement already satisfied: six in /usr/local/lib/python3.7/dist-packages (from hyperopt) (1.15.0)\n",
      "Requirement already satisfied: future in /usr/local/lib/python3.7/dist-packages (from hyperopt) (0.16.0)\n",
      "Requirement already satisfied: networkx in /usr/local/lib/python3.7/dist-packages (from hyperopt) (2.6.3)\n",
      "Requirement already satisfied: tqdm in /usr/local/lib/python3.7/dist-packages (from hyperopt) (4.62.3)\n",
      "Requirement already satisfied: scipy in /usr/local/lib/python3.7/dist-packages (from hyperopt) (1.4.1)\n"
     ]
    }
   ],
   "source": [
    "!pip install hyperopt"
   ]
  },
  {
   "cell_type": "markdown",
   "metadata": {
    "id": "yHvbIzA-Hkgx"
   },
   "source": [
    "# Use hyperopt!"
   ]
  },
  {
   "cell_type": "code",
   "execution_count": null,
   "metadata": {
    "id": "RLMSQxRpHffU"
   },
   "outputs": [],
   "source": []
  }
 ],
 "metadata": {
  "colab": {
   "collapsed_sections": [],
   "name": "HW_3_tasks.ipynb",
   "provenance": []
  },
  "kernelspec": {
   "display_name": "Python 3",
   "language": "python",
   "name": "python3"
  },
  "language_info": {
   "codemirror_mode": {
    "name": "ipython",
    "version": 3
   },
   "file_extension": ".py",
   "mimetype": "text/x-python",
   "name": "python",
   "nbconvert_exporter": "python",
   "pygments_lexer": "ipython3",
   "version": "3.8.3"
  }
 },
 "nbformat": 4,
 "nbformat_minor": 1
}
