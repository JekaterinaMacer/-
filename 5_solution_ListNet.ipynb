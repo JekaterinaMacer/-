{
  "nbformat": 4,
  "nbformat_minor": 0,
  "metadata": {
    "colab": {
      "name": "solution_ListNet.ipynb",
      "provenance": [],
      "collapsed_sections": []
    },
    "kernelspec": {
      "name": "python3",
      "display_name": "Python 3"
    },
    "language_info": {
      "name": "python"
    }
  },
  "cells": [
    {
      "cell_type": "code",
      "metadata": {
        "colab": {
          "base_uri": "https://localhost:8080/"
        },
        "id": "YwrQhgmNgWMe",
        "outputId": "dcaa4053-530b-4100-9e35-3c0f5cc3f75d"
      },
      "source": [
        "!pip install catboost"
      ],
      "execution_count": null,
      "outputs": [
        {
          "output_type": "stream",
          "text": [
            "Collecting catboost\n",
            "  Downloading catboost-0.26.1-cp37-none-manylinux1_x86_64.whl (67.4 MB)\n",
            "\u001b[K     |████████████████████████████████| 67.4 MB 88 kB/s \n",
            "\u001b[?25hRequirement already satisfied: pandas>=0.24.0 in /usr/local/lib/python3.7/dist-packages (from catboost) (1.1.5)\n",
            "Requirement already satisfied: scipy in /usr/local/lib/python3.7/dist-packages (from catboost) (1.4.1)\n",
            "Requirement already satisfied: numpy>=1.16.0 in /usr/local/lib/python3.7/dist-packages (from catboost) (1.19.5)\n",
            "Requirement already satisfied: matplotlib in /usr/local/lib/python3.7/dist-packages (from catboost) (3.2.2)\n",
            "Requirement already satisfied: six in /usr/local/lib/python3.7/dist-packages (from catboost) (1.15.0)\n",
            "Requirement already satisfied: plotly in /usr/local/lib/python3.7/dist-packages (from catboost) (4.4.1)\n",
            "Requirement already satisfied: graphviz in /usr/local/lib/python3.7/dist-packages (from catboost) (0.10.1)\n",
            "Requirement already satisfied: pytz>=2017.2 in /usr/local/lib/python3.7/dist-packages (from pandas>=0.24.0->catboost) (2018.9)\n",
            "Requirement already satisfied: python-dateutil>=2.7.3 in /usr/local/lib/python3.7/dist-packages (from pandas>=0.24.0->catboost) (2.8.1)\n",
            "Requirement already satisfied: kiwisolver>=1.0.1 in /usr/local/lib/python3.7/dist-packages (from matplotlib->catboost) (1.3.1)\n",
            "Requirement already satisfied: pyparsing!=2.0.4,!=2.1.2,!=2.1.6,>=2.0.1 in /usr/local/lib/python3.7/dist-packages (from matplotlib->catboost) (2.4.7)\n",
            "Requirement already satisfied: cycler>=0.10 in /usr/local/lib/python3.7/dist-packages (from matplotlib->catboost) (0.10.0)\n",
            "Requirement already satisfied: retrying>=1.3.3 in /usr/local/lib/python3.7/dist-packages (from plotly->catboost) (1.3.3)\n",
            "Installing collected packages: catboost\n",
            "Successfully installed catboost-0.26.1\n"
          ],
          "name": "stdout"
        }
      ]
    },
    {
      "cell_type": "code",
      "metadata": {
        "id": "9_9dPvd_ecRv"
      },
      "source": [
        "import math\n",
        "\n",
        "import numpy as np\n",
        "import torch\n",
        "from catboost.datasets import msrank_10k\n",
        "from sklearn.preprocessing import StandardScaler\n",
        "\n",
        "from typing import List"
      ],
      "execution_count": null,
      "outputs": []
    },
    {
      "cell_type": "code",
      "metadata": {
        "id": "nwwCgEijedeR"
      },
      "source": [
        "class ListNet(torch.nn.Module):\n",
        "    def __init__(self, num_input_features, hidden_dim=10):\n",
        "        super().__init__()\n",
        "        self.hidden_dim = hidden_dim\n",
        "\n",
        "    def weights_init_uniform(self):\n",
        "        classname = self.__class__.__name__\n",
        "        # for every Linear layer in a model..\n",
        "        if classname.find('Linear') != -1:\n",
        "            # apply a uniform distribution to the weights and a bias=0\n",
        "            self.weight.data.uniform_(0.0, 1.0)\n",
        "            self.bias.data.fill_(0)\n",
        "\n",
        "    # takes in a module and applies the specified weight initialization\n",
        "    def weights_init_uniform_rule(self):\n",
        "        classname = self.__class__.__name__\n",
        "        # for every Linear layer in a model..\n",
        "        if classname.find('Linear') != -1:\n",
        "            # get the number of the inputs\n",
        "            n = self.in_features\n",
        "            y = 1.0/np.sqrt(n)\n",
        "            self.weight.data.uniform_(-y, y)\n",
        "            self.bias.data.fill_(0)\n",
        "\n",
        "    def weights_init_normal(self):\n",
        "        '''Takes in a module and initializes all linear layers with weight\n",
        "           values taken from a normal distribution.'''\n",
        "\n",
        "        classname = self.__class__.__name__\n",
        "        # for every Linear layer in a model\n",
        "        if classname.find('Linear') != -1:\n",
        "            y = self.in_features\n",
        "        # m.weight.data shoud be taken from a normal distribution\n",
        "            self.weight.data.normal_(0.0,1/np.sqrt(y))\n",
        "        # m.bias.data should be 0\n",
        "            self.bias.data.fill_(0)\n",
        "\n",
        "    self.model = torch.nn.Sequential(\n",
        "            torch.nn.Linear(num_input_features, self.hidden_dim),\n",
        "            torch.nn.ReLU(),\n",
        "            torch.nn.Linear(self.hidden_dim, 1),\n",
        "    )\n",
        "    #self.model.apply(weights_init_normal)\n",
        "    #применить инициализацию весов\n",
        "  \n",
        "\n",
        "    def forward(self, input_1: torch.Tensor) -> torch.Tensor:\n",
        "        logits = self.model(input_1)\n",
        "        return logits"
      ],
      "execution_count": null,
      "outputs": []
    },
    {
      "cell_type": "code",
      "metadata": {
        "id": "VmucrifdgFUN"
      },
      "source": [
        "class Solution:\n",
        "    \n",
        "  def __init__(self, n_epochs: int = 6, listnet_hidden_dim: int = 30,\n",
        "               lr: float = 0.001, ndcg_top_k: int = 10):\n",
        "    self._prepare_data()\n",
        "    self.num_input_features = self.X_train.shape[1]\n",
        "    self.ndcg_top_k = ndcg_top_k\n",
        "    self.n_epochs = n_epochs\n",
        "\n",
        "    self.model = self._create_model(\n",
        "        self.num_input_features, listnet_hidden_dim)\n",
        "    self.optimizer = torch.optim.Adam(self.model.parameters(), lr=lr)\n",
        "\n",
        "  def _get_data(self) -> List[np.ndarray]:\n",
        "\n",
        "    train_df, test_df = msrank_10k()\n",
        "    \n",
        "    X_train = train_df.drop([0, 1], axis=1).values\n",
        "    y_train = train_df[0].values\n",
        "    query_ids_train = train_df[1].values.astype(int)\n",
        "\n",
        "    X_test = test_df.drop([0, 1], axis=1).values\n",
        "    y_test = test_df[0].values\n",
        "    query_ids_test = test_df[1].values.astype(int)\n",
        "\n",
        "    return [X_train, y_train, query_ids_train, X_test, y_test, query_ids_test]\n",
        "\n",
        "  def _prepare_data(self) -> None:\n",
        "    X_train, y_train, self.query_ids_train, X_test, y_test, self.query_ids_test = self._get_data()\n",
        "\n",
        "    self.X_train = torch.FloatTensor(\n",
        "        self._scale_features_in_query_groups(X_train,self.query_ids_train)\n",
        "    )\n",
        "    self.ys_train = torch.FloatTensor(y_train)\n",
        "\n",
        "    self.X_test = torch.FloatTensor(\n",
        "        self._scale_features_in_query_groups(X_test,self.query_ids_test)\n",
        "    )\n",
        "    self.ys_test = torch.FloatTensor(y_test)\n",
        "\n",
        "  def _scale_features_in_query_groups(self, inp_feat_array: np.ndarray,inp_query_ids: np.ndarray) -> np.ndarray:\n",
        "    for ids in inp_query_ids:\n",
        "      indices = (inp_query_ids==ids).nonzero()[0].ravel()\n",
        "      inp_feat_array[indices] = StandardScaler().fit_transform(inp_feat_array[indices])\n",
        "        \n",
        "    return inp_feat_array\n",
        "      \n",
        "  def _create_model(self, listnet_num_input_features: int,\n",
        "                    listnet_hidden_dim: int) -> torch.nn.Module:\n",
        "    torch.manual_seed(0)\n",
        "    net = ListNet(num_input_features=listnet_num_input_features,\n",
        "                  hidden_dim=listnet_hidden_dim)\n",
        "    \n",
        "    return net\n",
        "      \n",
        "  def fit(self) -> List[float]:\n",
        "    scores = []\n",
        "    for epoch in range(self.n_epochs):\n",
        "      self._train_one_epoch()\n",
        "      score = self._eval_test_set()\n",
        "      scores.append(score)\n",
        "    return scores\n",
        "\n",
        "  def _calc_loss(self, batch_ys: torch.FloatTensor,\n",
        "                 batch_pred: torch.FloatTensor) -> torch.FloatTensor:\n",
        "\n",
        "    def listnet_kl_loss(y_i, z_i):\n",
        "      \"\"\"\n",
        "      y_i: (n_i, 1) GT\n",
        "      z_i: (n_i, 1) preds\n",
        "      \"\"\"                     \n",
        "      P_y_i = torch.softmax(y_i, dim=0)\n",
        "      P_z_i = torch.softmax(z_i, dim=0)\n",
        "      return -torch.sum(P_y_i * torch.log(P_z_i/P_y_i))\n",
        "        \n",
        "    return listnet_kl_loss(batch_ys, batch_pred)\n",
        "\n",
        "  def _train_one_epoch(self) -> None:\n",
        "        self.model.train()\n",
        "\n",
        "        for ids in np.unique(self.query_ids_train):\n",
        "\n",
        "          indices = (self.query_ids_train == ids).nonzero()[0].ravel()\n",
        "          batch_X = self.X_train[indices]\n",
        "          batch_ys = self.ys_train[indices]      \n",
        "          self.optimizer.zero_grad()\n",
        "          if len(batch_X) > 0:\n",
        "              batch_pred = self.model(batch_X)\n",
        "              batch_pred = batch_pred.reshape(batch_pred.shape[0] * batch_pred.shape[1])\n",
        "              self.batch_loss = self._calc_loss(batch_ys, batch_pred)\n",
        "              self.batch_loss.backward(retain_graph=True)\n",
        "              self.optimizer.step()\n",
        "\n",
        "\n",
        "  def _eval_test_set(self) -> float:\n",
        "        with torch.no_grad():\n",
        "            self.model.eval()\n",
        "            ndcgs = []\n",
        "            for ids in np.unique(self.query_ids_test):\n",
        "              indices = (self.query_ids_test == ids).nonzero()[0].ravel()\n",
        "              batch_X = self.X_test[indices]\n",
        "              batch_ys = self.ys_test[indices]\n",
        "              valid_pred = self.model(batch_X)\n",
        "              try:\n",
        "                ndcg_score = self._ndcg_k(batch_ys, valid_pred, self.ndcg_top_k)\n",
        "              except:\n",
        "                ndcg_score = 0.0\n",
        "              ndcgs.append(ndcg_score)\n",
        "              \n",
        "            return np.mean(ndcgs)\n",
        "\n",
        "  def _ndcg_k(self, ys_true: torch.Tensor, ys_pred: torch.Tensor,\n",
        "                ndcg_top_k: int) -> float:\n",
        "\n",
        "      def compute_gain(y_value: float, gain_scheme: str) -> float:\n",
        "        if gain_scheme == 'const':\n",
        "          return float(y_value)\n",
        "        if gain_scheme == 'exp2':\n",
        "          return 2 ** float(y_value) - 1\n",
        "\n",
        "      def dcg_k(ys_true: torch.Tensor, ys_pred: torch.Tensor, gain_scheme: str, ndcg_top_k) -> float:\n",
        "        sorted_preds, indices = ys_pred.sort(descending=True, dim=0)\n",
        "        sorted_true = ys_true[indices]\n",
        "\n",
        "        current_gain = 0.0\n",
        "        for i in range(ndcg_top_k):\n",
        "            current_gain = current_gain + compute_gain(float(sorted_true[i]), gain_scheme) / math.log2(i + 2)\n",
        "\n",
        "        return current_gain\n",
        "\n",
        "      def ndcg_k(ys_true: torch.Tensor, ys_pred: torch.Tensor, ndcg_top_k, gain_scheme: str = 'exp2') -> float:\n",
        "          calculated_dcg = dcg_k(ys_true, ys_pred, gain_scheme, ndcg_top_k)\n",
        "          sorted_true, _ = ys_true.sort(descending=True, dim=0)\n",
        "\n",
        "          current_best_gain = 0.0\n",
        "          for i in range(ndcg_top_k):\n",
        "              current_best_gain = current_best_gain + compute_gain(float(sorted_true[i]), gain_scheme) / math.log2(i + 2)\n",
        "\n",
        "          return calculated_dcg / current_best_gain\n",
        "\n",
        "      return ndcg_k(ys_true, ys_pred, ndcg_top_k)"
      ],
      "execution_count": null,
      "outputs": []
    },
    {
      "cell_type": "code",
      "metadata": {
        "id": "DNPmt2o-_yAI"
      },
      "source": [
        "s = Solution()"
      ],
      "execution_count": null,
      "outputs": []
    },
    {
      "cell_type": "code",
      "metadata": {
        "colab": {
          "base_uri": "https://localhost:8080/"
        },
        "id": "8s5dVYtvEPkN",
        "outputId": "2d95fe19-68fb-4c26-ca62-b6cba77b72f3"
      },
      "source": [
        "s.fit()"
      ],
      "execution_count": null,
      "outputs": [
        {
          "output_type": "execute_result",
          "data": {
            "text/plain": [
              "[0.4181002571962249,\n",
              " 0.42562789990111294,\n",
              " 0.4274442735655671,\n",
              " 0.43125976846512676,\n",
              " 0.42806892845563294,\n",
              " 0.4315980496560358]"
            ]
          },
          "metadata": {
            "tags": []
          },
          "execution_count": 7
        }
      ]
    },
    {
      "cell_type": "code",
      "metadata": {
        "colab": {
          "base_uri": "https://localhost:8080/"
        },
        "id": "7luZAPCz-OZ-",
        "outputId": "e80bff1d-1d42-4714-b2c5-02ccd468f60f"
      },
      "source": [
        "s.fit()"
      ],
      "execution_count": null,
      "outputs": [
        {
          "output_type": "execute_result",
          "data": {
            "text/plain": [
              "[0.4009657486203707,\n",
              " 0.4222865833483446,\n",
              " 0.423861283114252,\n",
              " 0.4231192179988211,\n",
              " 0.4257273528713354,\n",
              " 0.4281771176780357]"
            ]
          },
          "metadata": {
            "tags": []
          },
          "execution_count": 11
        }
      ]
    },
    {
      "cell_type": "code",
      "metadata": {
        "colab": {
          "base_uri": "https://localhost:8080/"
        },
        "id": "_VxNdqiO-Waq",
        "outputId": "d1e191d0-539c-4b94-a24c-ebc057b4d3f7"
      },
      "source": [
        "s.fit()"
      ],
      "execution_count": null,
      "outputs": [
        {
          "output_type": "execute_result",
          "data": {
            "text/plain": [
              "[0.38129495256327245,\n",
              " 0.39070755353332404,\n",
              " 0.39646020027496437,\n",
              " 0.39569807760592857,\n",
              " 0.40528041657807473,\n",
              " 0.4044198775719709]"
            ]
          },
          "metadata": {
            "tags": []
          },
          "execution_count": 15
        }
      ]
    },
    {
      "cell_type": "code",
      "metadata": {
        "id": "czOje9ViEaBr"
      },
      "source": [
        "s.model(x_)"
      ],
      "execution_count": null,
      "outputs": []
    },
    {
      "cell_type": "markdown",
      "metadata": {
        "id": "iFKUJWpboHqm"
      },
      "source": [
        "Learning prepare Data"
      ]
    },
    {
      "cell_type": "code",
      "metadata": {
        "id": "fqbMfMk7j-TQ"
      },
      "source": [
        "train_df, test_df = msrank_10k()\n",
        "\n",
        "X_train = train_df.drop([0, 1], axis=1).values\n",
        "y_train = train_df[0].values\n",
        "query_ids_train = train_df[1].values.astype(int)\n",
        "\n",
        "X_test = test_df.drop([0, 1], axis=1).values\n",
        "y_test = test_df[0].values\n",
        "query_ids_test = test_df[1].values.astype(int)"
      ],
      "execution_count": null,
      "outputs": []
    },
    {
      "cell_type": "code",
      "metadata": {
        "colab": {
          "base_uri": "https://localhost:8080/"
        },
        "id": "NIuSYH0NlWT1",
        "outputId": "767b6d36-a545-403f-df47-9b673dcdf7f8"
      },
      "source": [
        "type(query_ids_train)"
      ],
      "execution_count": null,
      "outputs": [
        {
          "output_type": "execute_result",
          "data": {
            "text/plain": [
              "numpy.ndarray"
            ]
          },
          "metadata": {
            "tags": []
          },
          "execution_count": 31
        }
      ]
    },
    {
      "cell_type": "code",
      "metadata": {
        "colab": {
          "base_uri": "https://localhost:8080/"
        },
        "id": "-FQnDzMcm_IY",
        "outputId": "c422988a-2220-4e4f-a2af-7b3a184bf8ad"
      },
      "source": [
        "query_ids_train"
      ],
      "execution_count": null,
      "outputs": [
        {
          "output_type": "execute_result",
          "data": {
            "text/plain": [
              "array([   1,    1,    1, ..., 1291, 1291, 1291])"
            ]
          },
          "metadata": {
            "tags": []
          },
          "execution_count": 34
        }
      ]
    },
    {
      "cell_type": "code",
      "metadata": {
        "id": "iI6-uWOlltJo"
      },
      "source": [
        "i_temp = (query_ids_train==1291).nonzero()[0].ravel()"
      ],
      "execution_count": null,
      "outputs": []
    },
    {
      "cell_type": "code",
      "metadata": {
        "colab": {
          "base_uri": "https://localhost:8080/"
        },
        "id": "b8QI75gnl1-R",
        "outputId": "36ec3bcb-9b0d-4f07-fb48-de8ae80d2989"
      },
      "source": [
        "t = np.array([1, 2, 2, 3, 4, 3])\n",
        "print(t)"
      ],
      "execution_count": null,
      "outputs": [
        {
          "output_type": "stream",
          "text": [
            "[1 2 2 3 4 3]\n"
          ],
          "name": "stdout"
        }
      ]
    },
    {
      "cell_type": "code",
      "metadata": {
        "colab": {
          "base_uri": "https://localhost:8080/"
        },
        "id": "QTwhJfycoTsL",
        "outputId": "409f9fc2-a7b5-4b7a-bd20-806f6a89a9ea"
      },
      "source": [
        "(t == 3).nonzero()"
      ],
      "execution_count": null,
      "outputs": [
        {
          "output_type": "execute_result",
          "data": {
            "text/plain": [
              "(array([3, 5]),)"
            ]
          },
          "metadata": {
            "tags": []
          },
          "execution_count": 48
        }
      ]
    },
    {
      "cell_type": "code",
      "metadata": {
        "colab": {
          "base_uri": "https://localhost:8080/"
        },
        "id": "32qzTJHHmVP_",
        "outputId": "f39fa927-2e14-478e-aa6e-257362f7136f"
      },
      "source": [
        "(t == 3).nonzero()[0].ravel()"
      ],
      "execution_count": null,
      "outputs": [
        {
          "output_type": "execute_result",
          "data": {
            "text/plain": [
              "array([3, 5])"
            ]
          },
          "metadata": {
            "tags": []
          },
          "execution_count": 47
        }
      ]
    },
    {
      "cell_type": "code",
      "metadata": {
        "colab": {
          "base_uri": "https://localhost:8080/"
        },
        "id": "-UUksJMXp9PQ",
        "outputId": "b01804f0-e76c-420e-8aeb-6e93eeb5a981"
      },
      "source": [
        "i_temp"
      ],
      "execution_count": null,
      "outputs": [
        {
          "output_type": "execute_result",
          "data": {
            "text/plain": [
              "array([9876, 9877, 9878, 9879, 9880, 9881, 9882, 9883, 9884, 9885, 9886,\n",
              "       9887, 9888, 9889, 9890, 9891, 9892, 9893, 9894, 9895, 9896, 9897,\n",
              "       9898, 9899, 9900, 9901, 9902, 9903, 9904, 9905, 9906, 9907, 9908,\n",
              "       9909, 9910, 9911, 9912, 9913, 9914, 9915, 9916, 9917, 9918, 9919,\n",
              "       9920, 9921, 9922, 9923, 9924, 9925, 9926, 9927, 9928, 9929, 9930,\n",
              "       9931, 9932, 9933, 9934, 9935, 9936, 9937, 9938, 9939, 9940, 9941,\n",
              "       9942, 9943, 9944, 9945, 9946, 9947, 9948, 9949, 9950, 9951, 9952,\n",
              "       9953, 9954, 9955, 9956, 9957, 9958, 9959, 9960, 9961, 9962, 9963,\n",
              "       9964, 9965, 9966, 9967, 9968, 9969, 9970, 9971, 9972, 9973, 9974,\n",
              "       9975, 9976, 9977, 9978, 9979, 9980, 9981, 9982, 9983, 9984, 9985,\n",
              "       9986, 9987, 9988, 9989, 9990, 9991, 9992, 9993, 9994, 9995, 9996,\n",
              "       9997, 9998, 9999])"
            ]
          },
          "metadata": {
            "tags": []
          },
          "execution_count": 57
        }
      ]
    },
    {
      "cell_type": "code",
      "metadata": {
        "colab": {
          "base_uri": "https://localhost:8080/"
        },
        "id": "Bt4lWyK6puRF",
        "outputId": "4aba18d6-9ed6-48bb-9d20-516acf9d8842"
      },
      "source": [
        "X_train[i_temp]"
      ],
      "execution_count": null,
      "outputs": [
        {
          "output_type": "execute_result",
          "data": {
            "text/plain": [
              "array([[2., 0., 1., ..., 0., 0., 0.],\n",
              "       [2., 0., 1., ..., 0., 0., 0.],\n",
              "       [2., 0., 1., ..., 0., 0., 0.],\n",
              "       ...,\n",
              "       [2., 0., 2., ..., 0., 0., 0.],\n",
              "       [2., 0., 1., ..., 0., 0., 0.],\n",
              "       [2., 1., 1., ..., 0., 0., 0.]])"
            ]
          },
          "metadata": {
            "tags": []
          },
          "execution_count": 63
        }
      ]
    },
    {
      "cell_type": "code",
      "metadata": {
        "colab": {
          "base_uri": "https://localhost:8080/"
        },
        "id": "qxvIqO7XnHRe",
        "outputId": "7b31341c-e652-4d6f-df7d-bd1aef68ff17"
      },
      "source": [
        "StandardScaler().fit_transform(X_train[i_temp])"
      ],
      "execution_count": null,
      "outputs": [
        {
          "output_type": "execute_result",
          "data": {
            "text/plain": [
              "array([[ 0.47864437, -0.41208169, -0.06750527, ...,  0.        ,\n",
              "        -0.15519424, -0.37209505],\n",
              "       [ 0.47864437, -0.41208169, -0.06750527, ...,  0.        ,\n",
              "        -0.15519424, -0.37209505],\n",
              "       [ 0.47864437, -0.41208169, -0.06750527, ...,  0.        ,\n",
              "        -0.15519424, -0.37209505],\n",
              "       ...,\n",
              "       [ 0.47864437, -0.41208169,  1.32760372, ...,  0.        ,\n",
              "        -0.15519424, -0.37209505],\n",
              "       [ 0.47864437, -0.41208169, -0.06750527, ...,  0.        ,\n",
              "        -0.15519424, -0.37209505],\n",
              "       [ 0.47864437,  1.71700705, -0.06750527, ...,  0.        ,\n",
              "        -0.15519424, -0.37209505]])"
            ]
          },
          "metadata": {
            "tags": []
          },
          "execution_count": 65
        }
      ]
    },
    {
      "cell_type": "code",
      "metadata": {
        "id": "C22MZOFhpqCc"
      },
      "source": [
        ""
      ],
      "execution_count": null,
      "outputs": []
    }
  ]
}